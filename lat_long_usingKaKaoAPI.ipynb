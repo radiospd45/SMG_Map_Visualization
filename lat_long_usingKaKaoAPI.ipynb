{
 "cells": [
  {
   "cell_type": "markdown",
   "metadata": {},
   "source": [
    "# 카카오맵API를 통해 위경도 추출\n",
    "* 출처: https://yobro.tistory.com/5"
   ]
  },
  {
   "cell_type": "code",
   "execution_count": 1,
   "metadata": {},
   "outputs": [],
   "source": [
    "import requests\n",
    "import pandas as pd\n",
    "\n",
    "df= pd.read_csv('서울시기관_.csv', encoding='CP949')\n",
    "latitude=[]\n",
    "longitude=[]\n",
    "\n",
    "for i in df['Location_Regex'].values:\n",
    "    url=f'https://dapi.kakao.com/v2/local/search/keyword.json?query={i}'\n",
    "    headers= {\n",
    "        \"Authorization\": \"KakaoAK API키\"\n",
    "        }\n",
    "    places=requests.get(url, headers= headers).json()\n",
    "\n",
    "    if places['documents'] == []:\n",
    "        latitude.append(0)\n",
    "        longitude.append(0)\n",
    "\n",
    "    else:\n",
    "        latitude.append(float(places['documents'][0]['y']))\n",
    "        longitude.append(float(places['documents'][0]['x']))"
   ]
  },
  {
   "cell_type": "code",
   "execution_count": 2,
   "metadata": {},
   "outputs": [],
   "source": [
    "df['Latitude']= latitude\n",
    "df['Longitude'] = longitude"
   ]
  },
  {
   "cell_type": "code",
   "execution_count": 3,
   "metadata": {
    "scrolled": true
   },
   "outputs": [
    {
     "data": {
      "text/html": [
       "<div>\n",
       "<style scoped>\n",
       "    .dataframe tbody tr th:only-of-type {\n",
       "        vertical-align: middle;\n",
       "    }\n",
       "\n",
       "    .dataframe tbody tr th {\n",
       "        vertical-align: top;\n",
       "    }\n",
       "\n",
       "    .dataframe thead th {\n",
       "        text-align: right;\n",
       "    }\n",
       "</style>\n",
       "<table border=\"1\" class=\"dataframe\">\n",
       "  <thead>\n",
       "    <tr style=\"text-align: right;\">\n",
       "      <th></th>\n",
       "      <th>Location_Regex</th>\n",
       "      <th>Location_Dep</th>\n",
       "      <th>Latitude</th>\n",
       "      <th>Longitude</th>\n",
       "    </tr>\n",
       "  </thead>\n",
       "  <tbody>\n",
       "    <tr>\n",
       "      <th>0</th>\n",
       "      <td>서울특별시 중구 세종대로 110</td>\n",
       "      <td>서울시 본청</td>\n",
       "      <td>37.566223</td>\n",
       "      <td>126.978245</td>\n",
       "    </tr>\n",
       "    <tr>\n",
       "      <th>1</th>\n",
       "      <td>서울특별시 중구 덕수궁길 15</td>\n",
       "      <td>서울시 서소문청사</td>\n",
       "      <td>37.564440</td>\n",
       "      <td>126.975656</td>\n",
       "    </tr>\n",
       "    <tr>\n",
       "      <th>2</th>\n",
       "      <td>서울특별시 중구 서소문로 124</td>\n",
       "      <td>서울시 서소문2청사</td>\n",
       "      <td>37.563106</td>\n",
       "      <td>126.975222</td>\n",
       "    </tr>\n",
       "    <tr>\n",
       "      <th>3</th>\n",
       "      <td>강원도 속초시 미시령로 3160</td>\n",
       "      <td>공무원수련원</td>\n",
       "      <td>38.204357</td>\n",
       "      <td>128.553229</td>\n",
       "    </tr>\n",
       "    <tr>\n",
       "      <th>4</th>\n",
       "      <td>서울특별시 서초구 헌인릉1길 83-9</td>\n",
       "      <td>농업기술센터</td>\n",
       "      <td>37.465705</td>\n",
       "      <td>127.089788</td>\n",
       "    </tr>\n",
       "    <tr>\n",
       "      <th>...</th>\n",
       "      <td>...</td>\n",
       "      <td>...</td>\n",
       "      <td>...</td>\n",
       "      <td>...</td>\n",
       "    </tr>\n",
       "    <tr>\n",
       "      <th>83</th>\n",
       "      <td>서울특별시 영등포구 여의동로 330</td>\n",
       "      <td>여의도안내센터</td>\n",
       "      <td>37.526347</td>\n",
       "      <td>126.933598</td>\n",
       "    </tr>\n",
       "    <tr>\n",
       "      <th>84</th>\n",
       "      <td>서울특별시 용산구 이촌로72길 62</td>\n",
       "      <td>이촌안내센터</td>\n",
       "      <td>37.517240</td>\n",
       "      <td>126.970527</td>\n",
       "    </tr>\n",
       "    <tr>\n",
       "      <th>85</th>\n",
       "      <td>서울특별시 송파구 한가람로 65</td>\n",
       "      <td>잠실안내센터</td>\n",
       "      <td>37.517964</td>\n",
       "      <td>127.078327</td>\n",
       "    </tr>\n",
       "    <tr>\n",
       "      <th>86</th>\n",
       "      <td>서울특별시 서초구 잠원로 221-124</td>\n",
       "      <td>잠원안내센터</td>\n",
       "      <td>37.520721</td>\n",
       "      <td>127.012294</td>\n",
       "    </tr>\n",
       "    <tr>\n",
       "      <th>87</th>\n",
       "      <td>서울특별시 송파구 위례성대로 71</td>\n",
       "      <td>한성백제박물관</td>\n",
       "      <td>37.515413</td>\n",
       "      <td>127.120895</td>\n",
       "    </tr>\n",
       "  </tbody>\n",
       "</table>\n",
       "<p>88 rows × 4 columns</p>\n",
       "</div>"
      ],
      "text/plain": [
       "           Location_Regex Location_Dep   Latitude   Longitude\n",
       "0       서울특별시 중구 세종대로 110       서울시 본청  37.566223  126.978245\n",
       "1        서울특별시 중구 덕수궁길 15    서울시 서소문청사  37.564440  126.975656\n",
       "2       서울특별시 중구 서소문로 124   서울시 서소문2청사  37.563106  126.975222\n",
       "3       강원도 속초시 미시령로 3160       공무원수련원  38.204357  128.553229\n",
       "4    서울특별시 서초구 헌인릉1길 83-9       농업기술센터  37.465705  127.089788\n",
       "..                    ...          ...        ...         ...\n",
       "83    서울특별시 영등포구 여의동로 330      여의도안내센터  37.526347  126.933598\n",
       "84    서울특별시 용산구 이촌로72길 62       이촌안내센터  37.517240  126.970527\n",
       "85      서울특별시 송파구 한가람로 65       잠실안내센터  37.517964  127.078327\n",
       "86  서울특별시 서초구 잠원로 221-124       잠원안내센터  37.520721  127.012294\n",
       "87     서울특별시 송파구 위례성대로 71      한성백제박물관  37.515413  127.120895\n",
       "\n",
       "[88 rows x 4 columns]"
      ]
     },
     "execution_count": 3,
     "metadata": {},
     "output_type": "execute_result"
    }
   ],
   "source": [
    "df"
   ]
  },
  {
   "cell_type": "markdown",
   "metadata": {},
   "source": [
    "# 위경도 자료 없는 것들은 구글맵으로 검색"
   ]
  },
  {
   "cell_type": "code",
   "execution_count": 4,
   "metadata": {},
   "outputs": [
    {
     "data": {
      "text/html": [
       "<div>\n",
       "<style scoped>\n",
       "    .dataframe tbody tr th:only-of-type {\n",
       "        vertical-align: middle;\n",
       "    }\n",
       "\n",
       "    .dataframe tbody tr th {\n",
       "        vertical-align: top;\n",
       "    }\n",
       "\n",
       "    .dataframe thead th {\n",
       "        text-align: right;\n",
       "    }\n",
       "</style>\n",
       "<table border=\"1\" class=\"dataframe\">\n",
       "  <thead>\n",
       "    <tr style=\"text-align: right;\">\n",
       "      <th></th>\n",
       "      <th>Location_Regex</th>\n",
       "      <th>Location_Dep</th>\n",
       "      <th>Latitude</th>\n",
       "      <th>Longitude</th>\n",
       "    </tr>\n",
       "  </thead>\n",
       "  <tbody>\n",
       "    <tr>\n",
       "      <th>14</th>\n",
       "      <td>서울특별시 영등포구 여의동로 43</td>\n",
       "      <td>보행친화기획관 교통지도과 강남지역대</td>\n",
       "      <td>0.0</td>\n",
       "      <td>0.0</td>\n",
       "    </tr>\n",
       "    <tr>\n",
       "      <th>28</th>\n",
       "      <td>경기도 남양주시 삼패동 397</td>\n",
       "      <td>강북아리수정수센터</td>\n",
       "      <td>0.0</td>\n",
       "      <td>0.0</td>\n",
       "    </tr>\n",
       "    <tr>\n",
       "      <th>30</th>\n",
       "      <td>경기도 하남시 광암동 174</td>\n",
       "      <td>광암아리수정수센터</td>\n",
       "      <td>0.0</td>\n",
       "      <td>0.0</td>\n",
       "    </tr>\n",
       "    <tr>\n",
       "      <th>39</th>\n",
       "      <td>서울특별시 강동구 아리수로 131</td>\n",
       "      <td>암사아리수정수센터</td>\n",
       "      <td>0.0</td>\n",
       "      <td>0.0</td>\n",
       "    </tr>\n",
       "    <tr>\n",
       "      <th>40</th>\n",
       "      <td>서울특별시 영등포구 노들로 11</td>\n",
       "      <td>영등포아리수정수센터</td>\n",
       "      <td>0.0</td>\n",
       "      <td>0.0</td>\n",
       "    </tr>\n",
       "    <tr>\n",
       "      <th>70</th>\n",
       "      <td>서울특별시 성동구 가람길 150</td>\n",
       "      <td>차량정비센터</td>\n",
       "      <td>0.0</td>\n",
       "      <td>0.0</td>\n",
       "    </tr>\n",
       "    <tr>\n",
       "      <th>77</th>\n",
       "      <td>서울특별시 강동구 선사로 83-106</td>\n",
       "      <td>광나루안내센터</td>\n",
       "      <td>0.0</td>\n",
       "      <td>0.0</td>\n",
       "    </tr>\n",
       "  </tbody>\n",
       "</table>\n",
       "</div>"
      ],
      "text/plain": [
       "          Location_Regex         Location_Dep  Latitude  Longitude\n",
       "14    서울특별시 영등포구 여의동로 43  보행친화기획관 교통지도과 강남지역대       0.0        0.0\n",
       "28      경기도 남양주시 삼패동 397            강북아리수정수센터       0.0        0.0\n",
       "30       경기도 하남시 광암동 174            광암아리수정수센터       0.0        0.0\n",
       "39    서울특별시 강동구 아리수로 131            암사아리수정수센터       0.0        0.0\n",
       "40     서울특별시 영등포구 노들로 11           영등포아리수정수센터       0.0        0.0\n",
       "70     서울특별시 성동구 가람길 150               차량정비센터       0.0        0.0\n",
       "77  서울특별시 강동구 선사로 83-106              광나루안내센터       0.0        0.0"
      ]
     },
     "execution_count": 4,
     "metadata": {},
     "output_type": "execute_result"
    }
   ],
   "source": [
    "df.loc[df['Latitude']==0]"
   ]
  },
  {
   "cell_type": "code",
   "execution_count": 5,
   "metadata": {},
   "outputs": [],
   "source": [
    "df.iloc[14,2]= 37.5192995\n",
    "df.iloc[14,3]= 126.9196291"
   ]
  },
  {
   "cell_type": "code",
   "execution_count": 6,
   "metadata": {},
   "outputs": [],
   "source": [
    "df.iloc[28,2]= 37.5957411\n",
    "df.iloc[28,3]= 127.1840014"
   ]
  },
  {
   "cell_type": "code",
   "execution_count": 7,
   "metadata": {},
   "outputs": [],
   "source": [
    "df.iloc[30,2]= 37.5198202\n",
    "df.iloc[30,3]= 127.1704981"
   ]
  },
  {
   "cell_type": "code",
   "execution_count": 8,
   "metadata": {},
   "outputs": [],
   "source": [
    "df.iloc[39,2]= 37.5634231\n",
    "df.iloc[39,3]= 127.1392098"
   ]
  },
  {
   "cell_type": "code",
   "execution_count": 9,
   "metadata": {},
   "outputs": [],
   "source": [
    "df.iloc[40,2]= 37.550148\n",
    "df.iloc[40,3]= 126.8788343"
   ]
  },
  {
   "cell_type": "code",
   "execution_count": 10,
   "metadata": {},
   "outputs": [],
   "source": [
    "df.iloc[70,0]= '서울특별시 성동구 가람길 117'\n",
    "df.iloc[70,2]= 37.5526775 \n",
    "df.iloc[70,3]= 127.0540148"
   ]
  },
  {
   "cell_type": "code",
   "execution_count": 11,
   "metadata": {},
   "outputs": [],
   "source": [
    "df.iloc[77,2]= 37.5499323\n",
    "df.iloc[77,3]= 127.1200463"
   ]
  },
  {
   "cell_type": "code",
   "execution_count": 12,
   "metadata": {
    "scrolled": true
   },
   "outputs": [
    {
     "data": {
      "text/html": [
       "<div>\n",
       "<style scoped>\n",
       "    .dataframe tbody tr th:only-of-type {\n",
       "        vertical-align: middle;\n",
       "    }\n",
       "\n",
       "    .dataframe tbody tr th {\n",
       "        vertical-align: top;\n",
       "    }\n",
       "\n",
       "    .dataframe thead th {\n",
       "        text-align: right;\n",
       "    }\n",
       "</style>\n",
       "<table border=\"1\" class=\"dataframe\">\n",
       "  <thead>\n",
       "    <tr style=\"text-align: right;\">\n",
       "      <th></th>\n",
       "      <th>Location_Regex</th>\n",
       "      <th>Location_Dep</th>\n",
       "      <th>Latitude</th>\n",
       "      <th>Longitude</th>\n",
       "    </tr>\n",
       "  </thead>\n",
       "  <tbody>\n",
       "    <tr>\n",
       "      <th>0</th>\n",
       "      <td>서울특별시 중구 세종대로 110</td>\n",
       "      <td>서울시 본청</td>\n",
       "      <td>37.566223</td>\n",
       "      <td>126.978245</td>\n",
       "    </tr>\n",
       "    <tr>\n",
       "      <th>1</th>\n",
       "      <td>서울특별시 중구 덕수궁길 15</td>\n",
       "      <td>서울시 서소문청사</td>\n",
       "      <td>37.564440</td>\n",
       "      <td>126.975656</td>\n",
       "    </tr>\n",
       "    <tr>\n",
       "      <th>2</th>\n",
       "      <td>서울특별시 중구 서소문로 124</td>\n",
       "      <td>서울시 서소문2청사</td>\n",
       "      <td>37.563106</td>\n",
       "      <td>126.975222</td>\n",
       "    </tr>\n",
       "    <tr>\n",
       "      <th>3</th>\n",
       "      <td>강원도 속초시 미시령로 3160</td>\n",
       "      <td>공무원수련원</td>\n",
       "      <td>38.204357</td>\n",
       "      <td>128.553229</td>\n",
       "    </tr>\n",
       "    <tr>\n",
       "      <th>4</th>\n",
       "      <td>서울특별시 서초구 헌인릉1길 83-9</td>\n",
       "      <td>농업기술센터</td>\n",
       "      <td>37.465705</td>\n",
       "      <td>127.089788</td>\n",
       "    </tr>\n",
       "    <tr>\n",
       "      <th>...</th>\n",
       "      <td>...</td>\n",
       "      <td>...</td>\n",
       "      <td>...</td>\n",
       "      <td>...</td>\n",
       "    </tr>\n",
       "    <tr>\n",
       "      <th>83</th>\n",
       "      <td>서울특별시 영등포구 여의동로 330</td>\n",
       "      <td>여의도안내센터</td>\n",
       "      <td>37.526347</td>\n",
       "      <td>126.933598</td>\n",
       "    </tr>\n",
       "    <tr>\n",
       "      <th>84</th>\n",
       "      <td>서울특별시 용산구 이촌로72길 62</td>\n",
       "      <td>이촌안내센터</td>\n",
       "      <td>37.517240</td>\n",
       "      <td>126.970527</td>\n",
       "    </tr>\n",
       "    <tr>\n",
       "      <th>85</th>\n",
       "      <td>서울특별시 송파구 한가람로 65</td>\n",
       "      <td>잠실안내센터</td>\n",
       "      <td>37.517964</td>\n",
       "      <td>127.078327</td>\n",
       "    </tr>\n",
       "    <tr>\n",
       "      <th>86</th>\n",
       "      <td>서울특별시 서초구 잠원로 221-124</td>\n",
       "      <td>잠원안내센터</td>\n",
       "      <td>37.520721</td>\n",
       "      <td>127.012294</td>\n",
       "    </tr>\n",
       "    <tr>\n",
       "      <th>87</th>\n",
       "      <td>서울특별시 송파구 위례성대로 71</td>\n",
       "      <td>한성백제박물관</td>\n",
       "      <td>37.515413</td>\n",
       "      <td>127.120895</td>\n",
       "    </tr>\n",
       "  </tbody>\n",
       "</table>\n",
       "<p>88 rows × 4 columns</p>\n",
       "</div>"
      ],
      "text/plain": [
       "           Location_Regex Location_Dep   Latitude   Longitude\n",
       "0       서울특별시 중구 세종대로 110       서울시 본청  37.566223  126.978245\n",
       "1        서울특별시 중구 덕수궁길 15    서울시 서소문청사  37.564440  126.975656\n",
       "2       서울특별시 중구 서소문로 124   서울시 서소문2청사  37.563106  126.975222\n",
       "3       강원도 속초시 미시령로 3160       공무원수련원  38.204357  128.553229\n",
       "4    서울특별시 서초구 헌인릉1길 83-9       농업기술센터  37.465705  127.089788\n",
       "..                    ...          ...        ...         ...\n",
       "83    서울특별시 영등포구 여의동로 330      여의도안내센터  37.526347  126.933598\n",
       "84    서울특별시 용산구 이촌로72길 62       이촌안내센터  37.517240  126.970527\n",
       "85      서울특별시 송파구 한가람로 65       잠실안내센터  37.517964  127.078327\n",
       "86  서울특별시 서초구 잠원로 221-124       잠원안내센터  37.520721  127.012294\n",
       "87     서울특별시 송파구 위례성대로 71      한성백제박물관  37.515413  127.120895\n",
       "\n",
       "[88 rows x 4 columns]"
      ]
     },
     "execution_count": 12,
     "metadata": {},
     "output_type": "execute_result"
    }
   ],
   "source": [
    "df"
   ]
  },
  {
   "cell_type": "code",
   "execution_count": 13,
   "metadata": {},
   "outputs": [
    {
     "data": {
      "text/plain": [
       "0     37.566223\n",
       "1     37.564440\n",
       "2     37.563106\n",
       "3     38.204357\n",
       "4     37.465705\n",
       "        ...    \n",
       "83    37.526347\n",
       "84    37.517240\n",
       "85    37.517964\n",
       "86    37.520721\n",
       "87    37.515413\n",
       "Name: Latitude, Length: 88, dtype: float64"
      ]
     },
     "execution_count": 13,
     "metadata": {},
     "output_type": "execute_result"
    }
   ],
   "source": [
    "df['Latitude'] #소수점 최대 여섯자리까지만 담을 수 있는듯한??\n",
    "# 그건 아니고 display만 그렇다."
   ]
  },
  {
   "cell_type": "code",
   "execution_count": 14,
   "metadata": {},
   "outputs": [],
   "source": [
    "pd.options.display.float_format = \"{:,.15f}\".format\n",
    "#최대 15자리 소수점까지 display"
   ]
  },
  {
   "cell_type": "code",
   "execution_count": 15,
   "metadata": {},
   "outputs": [
    {
     "data": {
      "text/plain": [
       "0    37.566223164034596\n",
       "1    37.564439587225600\n",
       "2    37.563106022299401\n",
       "3    38.204357404291301\n",
       "4    37.465704819344502\n",
       "            ...        \n",
       "83   37.526347204736901\n",
       "84   37.517240442107202\n",
       "85   37.517964179198401\n",
       "86   37.520721352016203\n",
       "87   37.515412678518203\n",
       "Name: Latitude, Length: 88, dtype: float64"
      ]
     },
     "execution_count": 15,
     "metadata": {},
     "output_type": "execute_result"
    }
   ],
   "source": [
    "df['Latitude']"
   ]
  },
  {
   "cell_type": "code",
   "execution_count": 16,
   "metadata": {},
   "outputs": [
    {
     "data": {
      "text/plain": [
       "0    126.978244947578006\n",
       "1    126.975655748641003\n",
       "2    126.975221552410005\n",
       "3    128.553228592544002\n",
       "4    127.089788289504995\n",
       "             ...        \n",
       "83   126.933597581409003\n",
       "84   126.970526590860999\n",
       "85   127.078326539388001\n",
       "86   127.012293978105006\n",
       "87   127.120895017164997\n",
       "Name: Longitude, Length: 88, dtype: float64"
      ]
     },
     "execution_count": 16,
     "metadata": {},
     "output_type": "execute_result"
    }
   ],
   "source": [
    "df['Longitude']"
   ]
  },
  {
   "cell_type": "code",
   "execution_count": 17,
   "metadata": {},
   "outputs": [],
   "source": [
    "df.to_csv('서울시기관_kakaomap.csv', encoding='CP949')"
   ]
  }
 ],
 "metadata": {
  "kernelspec": {
   "display_name": "Python 3",
   "language": "python",
   "name": "python3"
  },
  "language_info": {
   "codemirror_mode": {
    "name": "ipython",
    "version": 3
   },
   "file_extension": ".py",
   "mimetype": "text/x-python",
   "name": "python",
   "nbconvert_exporter": "python",
   "pygments_lexer": "ipython3",
   "version": "3.8.5"
  }
 },
 "nbformat": 4,
 "nbformat_minor": 4
}
